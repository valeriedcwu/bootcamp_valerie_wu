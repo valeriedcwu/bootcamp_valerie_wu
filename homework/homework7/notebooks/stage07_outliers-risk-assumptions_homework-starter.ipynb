{
 "cells": [
  {
   "cell_type": "markdown",
   "id": "3848df1c",
   "metadata": {},
   "source": [
    "# Setup: Generate Sample Dataset\n",
    "\n",
    "This cell creates the required folder structure (`data/raw/` and `data/processed/`) relative to the notebook, and generates the sample CSV dataset with missing values. \n",
    "This ensures the dataset is ready for cleaning functions and saves it to `data/raw/outliers_homework.csv`."
   ]
  },
  {
   "cell_type": "code",
   "execution_count": 1,
   "id": "6c50b376",
   "metadata": {},
   "outputs": [
    {
     "name": "stdout",
     "output_type": "stream",
     "text": [
      "File already exists at ../data/raw\\outliers_homework.csv. Skipping CSV creation to avoid overwrite.\n"
     ]
    }
   ],
   "source": [
    "import os\n",
    "import numpy as np\n",
    "import pandas as pd\n",
    "\n",
    "# Define folder paths relative to this notebook\n",
    "raw_dir = '../data/raw'\n",
    "processed_dir = '../data/processed'\n",
    "\n",
    "# Create folders if they don't exist\n",
    "os.makedirs(raw_dir, exist_ok=True)\n",
    "os.makedirs(processed_dir, exist_ok=True)\n",
    "\n",
    "# Generate business day dates\n",
    "dates = pd.date_range(start=\"2022-01-03\", end=\"2022-06-10\", freq=\"B\")\n",
    "\n",
    "# Fixed random seed for reproducibility\n",
    "np.random.seed(17)\n",
    "\n",
    "# Column 1: daily_return ~ N(0, 0.01)\n",
    "returns = np.random.normal(0, 0.01, size=len(dates))\n",
    "mask_pre_may = dates < \"2022-05-01\"\n",
    "returns[mask_pre_may] -= 0.0015  \n",
    "\n",
    "# Inject \"shock\" values\n",
    "shock_values = {\n",
    "    \"2022-05-02\": 0.1748425237194541,\n",
    "    \"2022-05-03\": -0.16825801732486943,\n",
    "    \"2022-05-06\": -0.19667220757153227,\n",
    "    \"2022-05-09\": 0.21240223590614747,\n",
    "    \"2022-05-12\": -0.178729287231294\n",
    "}\n",
    "for d, v in shock_values.items():\n",
    "    idx = np.where(dates == pd.to_datetime(d))[0][0]\n",
    "    returns[idx] = v\n",
    "\n",
    "# Column 2: daily_return_2, correlated with daily_return + small noise\n",
    "daily_return_2 = returns * 0.6 + np.random.normal(0, 0.005, size=len(dates))\n",
    "\n",
    "# Create DataFrame with two numeric columns\n",
    "df = pd.DataFrame({\n",
    "    \"date\": dates,\n",
    "    \"daily_return\": returns,\n",
    "    \"daily_return_2\": daily_return_2\n",
    "})\n",
    "\n",
    "# Save to CSV in raw data folder\n",
    "csv_path = os.path.join(raw_dir, 'outliers_homework.csv')\n",
    "if not os.path.exists(csv_path):\n",
    "    df.to_csv(csv_path, index=False)\n",
    "    print(f'Synthetic dataset with two columns created and saved to {csv_path}')\n",
    "else:\n",
    "    print(f'File already exists at {csv_path}. Skipping CSV creation to avoid overwrite.')"
   ]
  },
  {
   "cell_type": "markdown",
   "id": "0ae55349",
   "metadata": {},
   "source": [
    "# Stage 7 Homework — Outliers + Risk Assumptions\n",
    "In this assignment you will implement outlier detection/handling and run a simple sensitivity analysis.\n",
    "\n",
    "**Chain:** In the lecture, we learned detection (IQR, Z-score), options for handling (remove/winsorize), and sensitivity testing. Now, you will adapt those methods to a provided dataset and document the risks and assumptions behind your choices."
   ]
  },
  {
   "cell_type": "code",
   "execution_count": 2,
   "id": "9086f203",
   "metadata": {},
   "outputs": [],
   "source": [
    "# Setup\n",
    "import numpy as np\n",
    "import pandas as pd\n",
    "import matplotlib.pyplot as plt\n",
    "from pathlib import Path\n",
    "from sklearn.linear_model import LinearRegression\n",
    "from sklearn.metrics import mean_absolute_error, r2_score\n",
    "np.random.seed(17)"
   ]
  },
  {
   "cell_type": "markdown",
   "id": "7e2a31f2",
   "metadata": {},
   "source": [
    "## Load Data (provided or synthetic fallback)"
   ]
  },
  {
   "cell_type": "code",
   "execution_count": 3,
   "id": "d4dcb820",
   "metadata": {},
   "outputs": [
    {
     "data": {
      "text/html": [
       "<div>\n",
       "<style scoped>\n",
       "    .dataframe tbody tr th:only-of-type {\n",
       "        vertical-align: middle;\n",
       "    }\n",
       "\n",
       "    .dataframe tbody tr th {\n",
       "        vertical-align: top;\n",
       "    }\n",
       "\n",
       "    .dataframe thead th {\n",
       "        text-align: right;\n",
       "    }\n",
       "</style>\n",
       "<table border=\"1\" class=\"dataframe\">\n",
       "  <thead>\n",
       "    <tr style=\"text-align: right;\">\n",
       "      <th></th>\n",
       "      <th>date</th>\n",
       "      <th>daily_return</th>\n",
       "      <th>daily_return_2</th>\n",
       "    </tr>\n",
       "  </thead>\n",
       "  <tbody>\n",
       "    <tr>\n",
       "      <th>0</th>\n",
       "      <td>2022-01-03</td>\n",
       "      <td>0.001263</td>\n",
       "      <td>0.003834</td>\n",
       "    </tr>\n",
       "    <tr>\n",
       "      <th>1</th>\n",
       "      <td>2022-01-04</td>\n",
       "      <td>-0.020046</td>\n",
       "      <td>-0.009506</td>\n",
       "    </tr>\n",
       "    <tr>\n",
       "      <th>2</th>\n",
       "      <td>2022-01-05</td>\n",
       "      <td>0.004739</td>\n",
       "      <td>-0.000535</td>\n",
       "    </tr>\n",
       "    <tr>\n",
       "      <th>3</th>\n",
       "      <td>2022-01-06</td>\n",
       "      <td>0.009953</td>\n",
       "      <td>0.012539</td>\n",
       "    </tr>\n",
       "    <tr>\n",
       "      <th>4</th>\n",
       "      <td>2022-01-07</td>\n",
       "      <td>0.008872</td>\n",
       "      <td>0.009840</td>\n",
       "    </tr>\n",
       "  </tbody>\n",
       "</table>\n",
       "</div>"
      ],
      "text/plain": [
       "         date  daily_return  daily_return_2\n",
       "0  2022-01-03      0.001263        0.003834\n",
       "1  2022-01-04     -0.020046       -0.009506\n",
       "2  2022-01-05      0.004739       -0.000535\n",
       "3  2022-01-06      0.009953        0.012539\n",
       "4  2022-01-07      0.008872        0.009840"
      ]
     },
     "execution_count": 3,
     "metadata": {},
     "output_type": "execute_result"
    }
   ],
   "source": [
    "data_path = Path('../data/raw/outliers_homework.csv')\n",
    "if data_path.exists():\n",
    "    df = pd.read_csv(data_path)\n",
    "else:\n",
    "    # Synthetic fallback: linear trend with noise and a few extremes\n",
    "    x = np.linspace(0, 10, 200)\n",
    "    y = 2.2 * x + 1 + np.random.normal(0, 1.2, size=x.size)\n",
    "    y[10] += 15; y[120] -= 13; y[160] += 18\n",
    "    df = pd.DataFrame({'x': x, 'y': y})\n",
    "df.head()"
   ]
  },
  {
   "cell_type": "markdown",
   "id": "5eedf719",
   "metadata": {},
   "source": [
    "## TODO: Implement Outlier Functions (required)"
   ]
  },
  {
   "cell_type": "code",
   "execution_count": 4,
   "id": "cfc929fb",
   "metadata": {
    "tags": [
     "grade_required"
    ]
   },
   "outputs": [],
   "source": [
    "def detect_outliers_iqr(series: pd.Series, k: float = 1.5) -> pd.Series:\n",
    "    \"\"\"Return boolean mask for IQR-based outliers.\n",
    "    Assumptions: distribution reasonably summarized by quartiles; k controls strictness.\n",
    "    \"\"\"\n",
    "    q1 = series.quantile(0.25)\n",
    "    q3 = series.quantile(0.75)\n",
    "    iqr = q3 - q1\n",
    "    lower = q1 - k * iqr\n",
    "    upper = q3 + k * iqr\n",
    "    return (series < lower) | (series > upper)\n",
    "\n",
    "def detect_outliers_zscore(series: pd.Series, threshold: float = 3.0) -> pd.Series:\n",
    "    \"\"\"Return boolean mask for Z-score outliers where |z| > threshold.\n",
    "    Assumptions: roughly normal distribution; sensitive to heavy tails.\n",
    "    \"\"\"\n",
    "    mu = series.mean()\n",
    "    sigma = series.std(ddof=0)\n",
    "    z = (series - mu) / (sigma if sigma != 0 else 1.0)\n",
    "    return z.abs() > threshold"
   ]
  },
  {
   "cell_type": "markdown",
   "id": "c0f6e3d4",
   "metadata": {},
   "source": [
    "*(Stretch)* Implement winsorizing (optional)."
   ]
  },
  {
   "cell_type": "code",
   "execution_count": 5,
   "id": "1d45864a",
   "metadata": {
    "tags": [
     "stretch"
    ]
   },
   "outputs": [],
   "source": [
    "def winsorize_series(series: pd.Series, lower: float = 0.05, upper: float = 0.95) -> pd.Series:\n",
    "    lo = series.quantile(lower)\n",
    "    hi = series.quantile(upper)\n",
    "    return series.clip(lower=lo, upper=hi)"
   ]
  },
  {
   "cell_type": "markdown",
   "id": "0b20612d",
   "metadata": {},
   "source": [
    "## Apply Detection and Create Flags (choose a numeric column)"
   ]
  },
  {
   "cell_type": "code",
   "execution_count": 6,
   "id": "8ae77d65",
   "metadata": {
    "tags": [
     "grade_required"
    ]
   },
   "outputs": [
    {
     "data": {
      "text/plain": [
       "outlier_iqr_col1    0.078261\n",
       "outlier_z_col1      0.043478\n",
       "outlier_iqr_col2    0.060870\n",
       "outlier_z_col2      0.043478\n",
       "dtype: float64"
      ]
     },
     "execution_count": 6,
     "metadata": {},
     "output_type": "execute_result"
    }
   ],
   "source": [
    "# target_col = 'y' if 'y' in df.columns else df.select_dtypes(include=['number']).columns[0]\n",
    "df['outlier_iqr_col1'] = detect_outliers_iqr(df['daily_return'])\n",
    "df['outlier_z_col1'] = detect_outliers_zscore(df['daily_return'], threshold=3.0)\n",
    "df['outlier_iqr_col2'] = detect_outliers_iqr(df['daily_return_2'])\n",
    "df['outlier_z_col2'] = detect_outliers_zscore(df['daily_return_2'], threshold=3.0)\n",
    "df[['outlier_iqr_col1', 'outlier_z_col1', 'outlier_iqr_col2', 'outlier_z_col2']].mean()  # fraction flagged"
   ]
  },
  {
   "cell_type": "markdown",
   "id": "0e031187",
   "metadata": {},
   "source": [
    "### Visual Checks (boxplot / histogram)"
   ]
  },
  {
   "cell_type": "code",
   "execution_count": 7,
   "id": "171e4c68",
   "metadata": {},
   "outputs": [
    {
     "data": {
      "image/png": "[encoded data removed]",
      "text/plain": [
       "<Figure size 640x480 with 4 Axes>"
      ]
     },
     "metadata": {},
     "output_type": "display_data"
    }
   ],
   "source": [
    "# plt.figure()\n",
    "# plt.boxplot(df['daily_return'])\n",
    "# plt.title(f'Boxplot: {\"daily_return\"}')\n",
    "# plt.show()\n",
    "\n",
    "# plt.figure()\n",
    "# plt.hist(df['daily_return'], bins=30)\n",
    "# plt.title(f'Histogram: {\"daily_return\"}')\n",
    "# plt.show()\n",
    "\n",
    "# Initialise the subplot function using number of rows and columns\n",
    "figure, axis = plt.subplots(2, 2)\n",
    "\n",
    "axis[0, 0].boxplot(df['daily_return'])\n",
    "axis[0, 0].set_title(f'Boxplot: {\"daily_return\"}')\n",
    "\n",
    "axis[0, 1].boxplot(df['daily_return_2'])\n",
    "axis[0, 1].set_title(f'Boxplot: {\"daily_return_2\"}')\n",
    "\n",
    "axis[1, 0].hist(df['daily_return'], bins=30)\n",
    "axis[1, 0].set_title(f'Histogram: {\"daily_return\"}')\n",
    "\n",
    "axis[1, 1].hist(df['daily_return_2'], bins=30)\n",
    "axis[1, 1].set_title(f'Histogram: {\"daily_return_2\"}')\n",
    "\n",
    "# Combine all the operations and display\n",
    "plt.tight_layout()\n",
    "plt.show()"
   ]
  },
  {
   "cell_type": "markdown",
   "id": "54889787",
   "metadata": {},
   "source": [
    "## Sensitivity Analysis\n",
    "Pick one: summary stats or simple linear regression comparing **all vs. filtered** (and optional winsorized)."
   ]
  },
  {
   "cell_type": "code",
   "execution_count": 10,
   "id": "d965c1b4",
   "metadata": {
    "tags": [
     "grade_required"
    ]
   },
   "outputs": [
    {
     "data": {
      "text/html": [
       "<div>\n",
       "<style scoped>\n",
       "    .dataframe tbody tr th:only-of-type {\n",
       "        vertical-align: middle;\n",
       "    }\n",
       "\n",
       "    .dataframe tbody tr th {\n",
       "        vertical-align: top;\n",
       "    }\n",
       "\n",
       "    .dataframe thead th {\n",
       "        text-align: right;\n",
       "    }\n",
       "</style>\n",
       "<table border=\"1\" class=\"dataframe\">\n",
       "  <thead>\n",
       "    <tr style=\"text-align: right;\">\n",
       "      <th></th>\n",
       "      <th>all</th>\n",
       "      <th>filtered_iqr</th>\n",
       "      <th>winsorized</th>\n",
       "    </tr>\n",
       "  </thead>\n",
       "  <tbody>\n",
       "    <tr>\n",
       "      <th>mean</th>\n",
       "      <td>-0.001434</td>\n",
       "      <td>-0.000039</td>\n",
       "      <td>-0.000251</td>\n",
       "    </tr>\n",
       "    <tr>\n",
       "      <th>median</th>\n",
       "      <td>-0.000187</td>\n",
       "      <td>-0.000100</td>\n",
       "      <td>-0.000187</td>\n",
       "    </tr>\n",
       "    <tr>\n",
       "      <th>std</th>\n",
       "      <td>0.040579</td>\n",
       "      <td>0.009443</td>\n",
       "      <td>0.010623</td>\n",
       "    </tr>\n",
       "  </tbody>\n",
       "</table>\n",
       "</div>"
      ],
      "text/plain": [
       "             all  filtered_iqr  winsorized\n",
       "mean   -0.001434     -0.000039   -0.000251\n",
       "median -0.000187     -0.000100   -0.000187\n",
       "std     0.040579      0.009443    0.010623"
      ]
     },
     "execution_count": 10,
     "metadata": {},
     "output_type": "execute_result"
    }
   ],
   "source": [
    "# Option A: Summary stats\n",
    "target_col = 'y' if 'y' in df.columns else df.select_dtypes(include=['number']).columns[0]\n",
    "summ_all = df[target_col].describe()[['mean', '50%', 'std']].rename({'50%': 'median'})\n",
    "summ_filtered = df.loc[~df['outlier_iqr_col1'], target_col].describe()[['mean', '50%', 'std']].rename({'50%': 'median'})\n",
    "summ_w = None\n",
    "if 'winsorize_series' in globals():\n",
    "    w = winsorize_series(df[target_col])\n",
    "    summ_w = w.describe()[['mean', '50%', 'std']].rename({'50%': 'median'})\n",
    "\n",
    "comp = pd.concat(\n",
    "    {\n",
    "        'all': summ_all,\n",
    "        'filtered_iqr': summ_filtered,\n",
    "        **({'winsorized': summ_w} if summ_w is not None else {})\n",
    "    }, axis=1\n",
    ")\n",
    "comp"
   ]
  },
  {
   "cell_type": "code",
   "execution_count": 13,
   "id": "f7e868c4",
   "metadata": {
    "tags": [
     "grade_required"
    ]
   },
   "outputs": [
    {
     "data": {
      "text/html": [
       "<div>\n",
       "<style scoped>\n",
       "    .dataframe tbody tr th:only-of-type {\n",
       "        vertical-align: middle;\n",
       "    }\n",
       "\n",
       "    .dataframe tbody tr th {\n",
       "        vertical-align: top;\n",
       "    }\n",
       "\n",
       "    .dataframe thead th {\n",
       "        text-align: right;\n",
       "    }\n",
       "</style>\n",
       "<table border=\"1\" class=\"dataframe\">\n",
       "  <thead>\n",
       "    <tr style=\"text-align: right;\">\n",
       "      <th></th>\n",
       "      <th>slope</th>\n",
       "      <th>intercept</th>\n",
       "      <th>r2</th>\n",
       "      <th>mae</th>\n",
       "    </tr>\n",
       "  </thead>\n",
       "  <tbody>\n",
       "    <tr>\n",
       "      <th>all</th>\n",
       "      <td>1.587569</td>\n",
       "      <td>-0.000373</td>\n",
       "      <td>0.961859</td>\n",
       "      <td>0.006333</td>\n",
       "    </tr>\n",
       "    <tr>\n",
       "      <th>filtered_iqr</th>\n",
       "      <td>0.972675</td>\n",
       "      <td>0.000031</td>\n",
       "      <td>0.573566</td>\n",
       "      <td>0.004903</td>\n",
       "    </tr>\n",
       "  </tbody>\n",
       "</table>\n",
       "</div>"
      ],
      "text/plain": [
       "                 slope  intercept        r2       mae\n",
       "all           1.587569  -0.000373  0.961859  0.006333\n",
       "filtered_iqr  0.972675   0.000031  0.573566  0.004903"
      ]
     },
     "execution_count": 13,
     "metadata": {},
     "output_type": "execute_result"
    }
   ],
   "source": [
    "# Option B: Simple regression (if x present)\n",
    "if 'daily_return_2' in df.columns:\n",
    "    X_all = df[['daily_return_2']].to_numpy(); y_all = df[target_col].to_numpy()\n",
    "    X_filtered = df.loc[~df['outlier_iqr_col1'], ['daily_return_2']].to_numpy(); y_filtered = df.loc[~df['outlier_iqr_col1'], target_col].to_numpy()\n",
    "\n",
    "    model_all = LinearRegression().fit(X_all, y_all)\n",
    "    model_flt = LinearRegression().fit(X_filtered, y_filtered)\n",
    "\n",
    "    mae_all = mean_absolute_error(y_all, model_all.predict(X_all))\n",
    "    mae_flt = mean_absolute_error(y_filtered, model_flt.predict(X_filtered))\n",
    "\n",
    "    results = pd.DataFrame({\n",
    "        'slope': [model_all.coef_[0], model_flt.coef_[0]],\n",
    "        'intercept': [model_all.intercept_, model_flt.intercept_],\n",
    "        'r2': [model_all.score(X_all, y_all), model_flt.score(X_filtered, y_filtered)],\n",
    "        'mae': [mae_all, mae_flt]\n",
    "    }, index=['all', 'filtered_iqr'])\n",
    "else:\n",
    "    results = None\n",
    "    print(\"No 'x' column; skip regression or engineer features.\")\n",
    "results"
   ]
  },
  {
   "cell_type": "markdown",
   "id": "078115ba",
   "metadata": {},
   "source": [
    "### Reflection (≤ 1 page)\n",
    "- Methods and thresholds used (and why)\n",
    "- Assumptions behind choices\n",
    "- Observed impact on results\n",
    "- Risks if assumptions are wrong (e.g., discarding true events)"
   ]
  },
  {
   "cell_type": "markdown",
   "id": "67574c2c",
   "metadata": {},
   "source": [
    "#### Methods and thresholds used (and why)\n",
    "- IQR-based filtering with multiplier k=1.5\n",
    "- Z-score detection with the threshold=3.0\n",
    "- winsorization with lower and upper quantile=(0.05, 0.95)\n",
    "- We use IQR filtering when we want to detect/flag or remove suspicious points, and we use winsorization when we want to keep all rows but blunt the influence of extremes.\n",
    "#### Assumptions behind choices\n",
    "- We assumed that outliers are discardable and do not have meaningful business insight.\n",
    "- We chose the thresholds by standard practices: k=1.5 for IQR, z=3 to detect extreme deviations, and 5% / 95% quantile for winsorization.\n",
    "#### Observed impact on results\n",
    "- We observed that removing outliers by IQR-filtering substantially reduced the slope and $R^2$ (from 1.59 to 0.97 and 0.96 to 0.57), suggesting the extreme values have significant impact on the linearity.\n",
    "#### Risks if assumptions are wrong (e.g., discarding true events)\n",
    "- Removing outliers could be biased, as in real trading world, outliers often suggest extreme returns or losses.\n",
    "- Winsorizing could hide extreme risks."
   ]
  },
  {
   "cell_type": "code",
   "execution_count": null,
   "id": "7444f45f-b617-4175-a5c7-f541ca32805d",
   "metadata": {},
   "outputs": [],
   "source": []
  }
 ],
 "metadata": {
  "kernelspec": {
   "display_name": "Python 3 (ipykernel)",
   "language": "python",
   "name": "python3"
  },
  "language_info": {
   "codemirror_mode": {
    "name": "ipython",
    "version": 3
   },
   "file_extension": ".py",
   "mimetype": "text/x-python",
   "name": "python",
   "nbconvert_exporter": "python",
   "pygments_lexer": "ipython3",
   "version": "3.11.13"
  }
 },
 "nbformat": 4,
 "nbformat_minor": 5
}
