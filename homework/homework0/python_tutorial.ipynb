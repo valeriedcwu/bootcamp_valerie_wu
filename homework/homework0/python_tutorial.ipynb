{
 "cells": [
  {
   "cell_type": "code",
   "execution_count": 2,
   "id": "1527aeb3-e1cd-428b-b8db-89aa5dd744d7",
   "metadata": {},
   "outputs": [
    {
     "name": "stdout",
     "output_type": "stream",
     "text": [
      "Python version: 3.10.18 | packaged by Anaconda, Inc. | (main, Jun  5 2025, 13:08:55) [MSC v.1929 64 bit (AMD64)]\n",
      "Interpreter path: C:\\Users\\susan\\.conda\\envs\\bootcamp_env\\python.exe\n"
     ]
    }
   ],
   "source": [
    "import os, sys\n",
    "\n",
    "print('Python version:', sys.version)\n",
    "print('Interpreter path:', sys.executable)"
   ]
  },
  {
   "cell_type": "code",
   "execution_count": 3,
   "id": "4d59f65b-4420-4fb4-9b9e-2e0e99e42f03",
   "metadata": {},
   "outputs": [
    {
     "name": "stdout",
     "output_type": "stream",
     "text": [
      "imports ok\n"
     ]
    }
   ],
   "source": [
    "try:\n",
    "    import numpy as np\n",
    "    from dotenv import load_dotenv\n",
    "    print('imports ok')\n",
    "    # from fun import t\n",
    "except Exception as e:\n",
    "    print('import error:', e)\n",
    "    raise"
   ]
  },
  {
   "cell_type": "code",
   "execution_count": null,
   "id": "4c4b2610-f350-4cc6-b261-9dfc142ce144",
   "metadata": {},
   "outputs": [],
   "source": []
  }
 ],
 "metadata": {
  "kernelspec": {
   "display_name": "Python 3 (ipykernel)",
   "language": "python",
   "name": "python3"
  },
  "language_info": {
   "codemirror_mode": {
    "name": "ipython",
    "version": 3
   },
   "file_extension": ".py",
   "mimetype": "text/x-python",
   "name": "python",
   "nbconvert_exporter": "python",
   "pygments_lexer": "ipython3",
   "version": "3.10.18"
  }
 },
 "nbformat": 4,
 "nbformat_minor": 5
}
