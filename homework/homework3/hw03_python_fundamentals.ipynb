{
 "cells": [
  {
   "cell_type": "markdown",
   "id": "bfa9659e-1e4b-427d-a538-a73487554a09",
   "metadata": {},
   "source": [
    "### 1. NumPy Operations\n",
    "   - Create an array and perform elementwise operations.\n",
    "   - Compare loop vs vectorized execution."
   ]
  },
  {
   "cell_type": "code",
   "execution_count": 1,
   "id": "a4928a44-656b-4f02-a9bc-882ccc78715b",
   "metadata": {},
   "outputs": [
    {
     "name": "stdout",
     "output_type": "stream",
     "text": [
      "[1 2 3 4]\n",
      "[ 1  4  9 16]\n",
      "[ 7.8  8.6  9.4 10.2]\n"
     ]
    }
   ],
   "source": [
    "import numpy as np\n",
    "import pandas as pd\n",
    "import matplotlib.pyplot as plt\n",
    "import time\n",
    "\n",
    "lst = [1, 2, 3, 4]\n",
    "arr = np.array(lst)\n",
    "arr_sq = arr ** 2\n",
    "arr_lnr = arr * 0.8 + 7\n",
    "\n",
    "print(arr)\n",
    "print(arr_sq)\n",
    "print(arr_lnr)"
   ]
  },
  {
   "cell_type": "code",
   "execution_count": 2,
   "id": "33fa6379-415e-46f2-8da2-93076c91f88c",
   "metadata": {},
   "outputs": [
    {
     "name": "stdout",
     "output_type": "stream",
     "text": [
      "loop: 0.19514751434326172\n",
      "vectorized: 0.0030031204223632812\n"
     ]
    }
   ],
   "source": [
    "rng = np.random.default_rng(42)\n",
    "arr = rng.normal(50, 10, size=200_000)\n",
    "\n",
    "def loop_op(a):\n",
    "    out = np.empty_like(a)\n",
    "    for i in range(a.shape[0]):\n",
    "        out[i] = a[i] * 0.8 + 7\n",
    "    return out\n",
    "\n",
    "t0 = time.time()\n",
    "loop_res = loop_op(arr)\n",
    "t1 = time.time()\n",
    "vec_res = arr * 0.8 + 7\n",
    "t2 = time.time()\n",
    "\n",
    "print(\"loop:\", t1-t0)\n",
    "print(\"vectorized:\", t2-t1)"
   ]
  },
  {
   "cell_type": "markdown",
   "id": "edeefe02-06aa-4509-b0c2-2a5def549a91",
   "metadata": {},
   "source": [
    "### 2. Dataset Loading\n",
    "   - Load provided CSV (`data/starter_data.csv`) using pandas.\n",
    "   - Inspect with `.info()` and `.head()`."
   ]
  },
  {
   "cell_type": "code",
   "execution_count": 3,
   "id": "f76dbc3d-a6c2-4fc0-be56-515d26670cf6",
   "metadata": {},
   "outputs": [
    {
     "name": "stdout",
     "output_type": "stream",
     "text": [
      "<class 'pandas.core.frame.DataFrame'>\n",
      "RangeIndex: 10 entries, 0 to 9\n",
      "Data columns (total 3 columns):\n",
      " #   Column    Non-Null Count  Dtype \n",
      "---  ------    --------------  ----- \n",
      " 0   category  10 non-null     object\n",
      " 1   value     10 non-null     int64 \n",
      " 2   date      10 non-null     object\n",
      "dtypes: int64(1), object(2)\n",
      "memory usage: 372.0+ bytes\n"
     ]
    },
    {
     "data": {
      "text/plain": [
       "(None,\n",
       "   category  value        date\n",
       " 0        A     10  2025-08-01\n",
       " 1        B     15  2025-08-02\n",
       " 2        A     12  2025-08-03\n",
       " 3        B     18  2025-08-04\n",
       " 4        C     25  2025-08-05)"
      ]
     },
     "execution_count": 3,
     "metadata": {},
     "output_type": "execute_result"
    }
   ],
   "source": [
    "df = pd.read_csv('data/starter_data.csv')\n",
    "df.info(), df.head()"
   ]
  },
  {
   "cell_type": "markdown",
   "id": "16adcc14-e02d-4ef2-9f17-b555cbe9f068",
   "metadata": {},
   "source": [
    "### 3. Summary Statistics\n",
    "   - Calculate `.describe()` for numeric columns.\n",
    "   - Perform `.groupby()` aggregation by category."
   ]
  },
  {
   "cell_type": "code",
   "execution_count": 4,
   "id": "9422d4d6-a0ff-42f5-8fb0-6fa39f976142",
   "metadata": {},
   "outputs": [
    {
     "data": {
      "text/html": [
       "<div>\n",
       "<style scoped>\n",
       "    .dataframe tbody tr th:only-of-type {\n",
       "        vertical-align: middle;\n",
       "    }\n",
       "\n",
       "    .dataframe tbody tr th {\n",
       "        vertical-align: top;\n",
       "    }\n",
       "\n",
       "    .dataframe thead th {\n",
       "        text-align: right;\n",
       "    }\n",
       "</style>\n",
       "<table border=\"1\" class=\"dataframe\">\n",
       "  <thead>\n",
       "    <tr style=\"text-align: right;\">\n",
       "      <th></th>\n",
       "      <th>value</th>\n",
       "    </tr>\n",
       "  </thead>\n",
       "  <tbody>\n",
       "    <tr>\n",
       "      <th>count</th>\n",
       "      <td>10.000000</td>\n",
       "    </tr>\n",
       "    <tr>\n",
       "      <th>mean</th>\n",
       "      <td>17.600000</td>\n",
       "    </tr>\n",
       "    <tr>\n",
       "      <th>std</th>\n",
       "      <td>7.381659</td>\n",
       "    </tr>\n",
       "    <tr>\n",
       "      <th>min</th>\n",
       "      <td>10.000000</td>\n",
       "    </tr>\n",
       "    <tr>\n",
       "      <th>25%</th>\n",
       "      <td>12.250000</td>\n",
       "    </tr>\n",
       "    <tr>\n",
       "      <th>50%</th>\n",
       "      <td>14.500000</td>\n",
       "    </tr>\n",
       "    <tr>\n",
       "      <th>75%</th>\n",
       "      <td>23.250000</td>\n",
       "    </tr>\n",
       "    <tr>\n",
       "      <th>max</th>\n",
       "      <td>30.000000</td>\n",
       "    </tr>\n",
       "  </tbody>\n",
       "</table>\n",
       "</div>"
      ],
      "text/plain": [
       "           value\n",
       "count  10.000000\n",
       "mean   17.600000\n",
       "std     7.381659\n",
       "min    10.000000\n",
       "25%    12.250000\n",
       "50%    14.500000\n",
       "75%    23.250000\n",
       "max    30.000000"
      ]
     },
     "execution_count": 4,
     "metadata": {},
     "output_type": "execute_result"
    }
   ],
   "source": [
    "df.describe()"
   ]
  },
  {
   "cell_type": "code",
   "execution_count": 5,
   "id": "0dfef146-c043-4ef3-bc96-0d1b0682627f",
   "metadata": {},
   "outputs": [
    {
     "data": {
      "text/html": [
       "<div>\n",
       "<style scoped>\n",
       "    .dataframe tbody tr th:only-of-type {\n",
       "        vertical-align: middle;\n",
       "    }\n",
       "\n",
       "    .dataframe tbody tr th {\n",
       "        vertical-align: top;\n",
       "    }\n",
       "\n",
       "    .dataframe thead th {\n",
       "        text-align: right;\n",
       "    }\n",
       "</style>\n",
       "<table border=\"1\" class=\"dataframe\">\n",
       "  <thead>\n",
       "    <tr style=\"text-align: right;\">\n",
       "      <th></th>\n",
       "      <th>category</th>\n",
       "      <th>value</th>\n",
       "    </tr>\n",
       "  </thead>\n",
       "  <tbody>\n",
       "    <tr>\n",
       "      <th>0</th>\n",
       "      <td>A</td>\n",
       "      <td>11.500000</td>\n",
       "    </tr>\n",
       "    <tr>\n",
       "      <th>1</th>\n",
       "      <td>B</td>\n",
       "      <td>15.666667</td>\n",
       "    </tr>\n",
       "    <tr>\n",
       "      <th>2</th>\n",
       "      <td>C</td>\n",
       "      <td>27.666667</td>\n",
       "    </tr>\n",
       "  </tbody>\n",
       "</table>\n",
       "</div>"
      ],
      "text/plain": [
       "  category      value\n",
       "0        A  11.500000\n",
       "1        B  15.666667\n",
       "2        C  27.666667"
      ]
     },
     "execution_count": 5,
     "metadata": {},
     "output_type": "execute_result"
    }
   ],
   "source": [
    "summary = df.groupby('category').mean(numeric_only=True).reset_index()\n",
    "summary"
   ]
  },
  {
   "cell_type": "markdown",
   "id": "64f0bf1e-ab74-4caa-a9eb-e72d9ca7932c",
   "metadata": {},
   "source": [
    "### 4. Save Outputs\n",
    "   - Save summary stats to `data/processed/summary.csv` or `.json`.\n",
    "   - Bonus: Create and save a basic plot."
   ]
  },
  {
   "cell_type": "code",
   "execution_count": 6,
   "id": "3597c0a4-16cc-4497-96e8-0938bbf4f217",
   "metadata": {},
   "outputs": [],
   "source": [
    "summary.to_csv('data/processed/summary.csv', index=False)"
   ]
  },
  {
   "cell_type": "code",
   "execution_count": 7,
   "id": "f232dc35-0795-459e-b7e5-d480c2044478",
   "metadata": {},
   "outputs": [
    {
     "data": {
      "image/png": "[encoded data removed]",
      "text/plain": [
       "<Figure size 640x480 with 1 Axes>"
      ]
     },
     "metadata": {},
     "output_type": "display_data"
    }
   ],
   "source": [
    "df['value'].plot(kind='hist')\n",
    "plt.savefig('data/processed/hist.png')"
   ]
  },
  {
   "cell_type": "markdown",
   "id": "06acc988-a895-41be-8423-f1640e4a64da",
   "metadata": {},
   "source": [
    "### 5. Reusable Functions\n",
    "   - Write at least one utility function (e.g., `get_summary_stats(df)`).\n",
    "   - Bonus: Move function to `src/utils.py` and import in notebook."
   ]
  },
  {
   "cell_type": "code",
   "execution_count": 8,
   "id": "bce5c9ab-a513-4e20-b14b-fa67a216de8f",
   "metadata": {},
   "outputs": [],
   "source": [
    "def get_summary_stats(df):\n",
    "    \n",
    "    # Numeric summary\n",
    "    describe_stats = df.describe(include=[np.number]).to_dict()\n",
    "\n",
    "    # Groupby aggregation\n",
    "    by_category = (\n",
    "        df.groupby(\"category\")\n",
    "          .agg(\n",
    "              n_rows=(\"quantity\", \"size\"),\n",
    "              avg_price=(\"price_usd\", \"mean\"),\n",
    "              total_quantity=(\"quantity\", \"sum\"),\n",
    "              total_revenue=(\"revenue_usd\", \"sum\")\n",
    "          )\n",
    "          .reset_index()\n",
    "          .to_dict(orient=\"records\")\n",
    "    )\n",
    "\n",
    "    return {\"describe\": describe_stats,\"by_category\": by_category}"
   ]
  },
  {
   "cell_type": "code",
   "execution_count": 9,
   "id": "6bfc750f-8922-4b09-9a53-1d5c86ca4089",
   "metadata": {},
   "outputs": [
    {
     "name": "stdout",
     "output_type": "stream",
     "text": [
      "dict_keys(['describe', 'by_category'])\n"
     ]
    }
   ],
   "source": [
    "from src.utils import get_summary_stats\n",
    "\n",
    "stats = get_summary_stats(df)\n",
    "print(stats.keys())"
   ]
  },
  {
   "cell_type": "code",
   "execution_count": null,
   "id": "a4b85007-4a18-4860-8ed2-7d68fceeb2e2",
   "metadata": {},
   "outputs": [],
   "source": []
  }
 ],
 "metadata": {
  "kernelspec": {
   "display_name": "Python 3 (ipykernel)",
   "language": "python",
   "name": "python3"
  },
  "language_info": {
   "codemirror_mode": {
    "name": "ipython",
    "version": 3
   },
   "file_extension": ".py",
   "mimetype": "text/x-python",
   "name": "python",
   "nbconvert_exporter": "python",
   "pygments_lexer": "ipython3",
   "version": "3.11.13"
  }
 },
 "nbformat": 4,
 "nbformat_minor": 5
}
